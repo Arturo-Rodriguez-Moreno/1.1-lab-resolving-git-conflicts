{
 "cells": [
  {
   "cell_type": "code",
   "execution_count": null,
   "id": "6d54f12a",
   "metadata": {},
   "outputs": [],
   "source": [
    "def suma(a, b):\n",
    "    result = a - b\n",
    "    return result\n"
   ]
  }
 ],
 "metadata": {
  "kernelspec": {
   "display_name": "Python 3 (ipykernel)",
   "language": "python",
   "name": "python3"
  },
  "language_info": {
   "codemirror_mode": {
    "name": "ipython",
    "version": 3
   },
   "file_extension": ".py",
   "mimetype": "text/x-python",
   "name": "python",
   "nbconvert_exporter": "python",
   "pygments_lexer": "ipython3",
   "version": "3.9.7"
  }
 },
 "nbformat": 4,
 "nbformat_minor": 5
}
